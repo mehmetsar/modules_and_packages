{
  "nbformat": 4,
  "nbformat_minor": 0,
  "metadata": {
    "colab": {
      "name": "Pandas_series.ipynb",
      "provenance": [],
      "authorship_tag": "ABX9TyPv8uccIOhinDO6RXcgZQPt",
      "include_colab_link": true
    },
    "kernelspec": {
      "name": "python3",
      "display_name": "Python 3"
    },
    "language_info": {
      "name": "python"
    }
  },
  "cells": [
    {
      "cell_type": "markdown",
      "metadata": {
        "id": "view-in-github",
        "colab_type": "text"
      },
      "source": [
        "<a href=\"https://colab.research.google.com/github/mehmetsar/modules_and_packages/blob/main/Pandas_series.ipynb\" target=\"_parent\"><img src=\"https://colab.research.google.com/assets/colab-badge.svg\" alt=\"Open In Colab\"/></a>"
      ]
    },
    {
      "cell_type": "code",
      "metadata": {
        "id": "CcCiBnkuXwBb"
      },
      "source": [
        "import pandas as pd\n"
      ],
      "execution_count": 4,
      "outputs": []
    },
    {
      "cell_type": "code",
      "metadata": {
        "id": "U8Cs9TFQsC_t",
        "colab": {
          "base_uri": "https://localhost:8080/"
        },
        "outputId": "59c173f6-d8b3-4809-f36d-dc7e7aa8f991"
      },
      "source": [
        "a = [80,100,120,70]\n",
        "b = [\"usa\", \"china\", \" sivas\", \"amasya\"]\n",
        "ab = pd.Series(data=a, index=b)\n",
        "ab\n",
        "cd= ab.add(a,fill_value=0)\n",
        "cd\n"
      ],
      "execution_count": 9,
      "outputs": [
        {
          "output_type": "execute_result",
          "data": {
            "text/plain": [
              "usa       160\n",
              "china     200\n",
              " sivas    240\n",
              "amasya    140\n",
              "dtype: int64"
            ]
          },
          "metadata": {
            "tags": []
          },
          "execution_count": 9
        }
      ]
    }
  ]
}