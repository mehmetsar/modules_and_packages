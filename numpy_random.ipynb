{
  "nbformat": 4,
  "nbformat_minor": 0,
  "metadata": {
    "colab": {
      "name": "numpy_random.ipynb",
      "provenance": [],
      "authorship_tag": "ABX9TyMt0jgmHYdq8b0DAVZvNO5p",
      "include_colab_link": true
    },
    "kernelspec": {
      "name": "python3",
      "display_name": "Python 3"
    },
    "language_info": {
      "name": "python"
    }
  },
  "cells": [
    {
      "cell_type": "markdown",
      "metadata": {
        "id": "view-in-github",
        "colab_type": "text"
      },
      "source": [
        "<a href=\"https://colab.research.google.com/github/mehmetsar/modules_and_packages/blob/main/numpy_random.ipynb\" target=\"_parent\"><img src=\"https://colab.research.google.com/assets/colab-badge.svg\" alt=\"Open In Colab\"/></a>"
      ]
    },
    {
      "cell_type": "code",
      "metadata": {
        "id": "GmNfuyzCxWyl"
      },
      "source": [
        "import numpy as np\n"
      ],
      "execution_count": 3,
      "outputs": []
    },
    {
      "cell_type": "code",
      "metadata": {
        "colab": {
          "base_uri": "https://localhost:8080/"
        },
        "id": "TsuEAMclxe7b",
        "outputId": "66e3268b-6f1b-40c7-a075-591dee0c0ddf"
      },
      "source": [
        "np.random.rand(2) # gives the entered number between 0-1"
      ],
      "execution_count": 4,
      "outputs": [
        {
          "output_type": "execute_result",
          "data": {
            "text/plain": [
              "array([0.72559033, 0.52472052])"
            ]
          },
          "metadata": {
            "tags": []
          },
          "execution_count": 4
        }
      ]
    },
    {
      "cell_type": "code",
      "metadata": {
        "colab": {
          "base_uri": "https://localhost:8080/"
        },
        "id": "ZBh4OV2nxrmx",
        "outputId": "4c6be77d-bfd9-4716-f75c-4680f708b33e"
      },
      "source": [
        "np.random.rand(5,5)"
      ],
      "execution_count": 5,
      "outputs": [
        {
          "output_type": "execute_result",
          "data": {
            "text/plain": [
              "array([[0.47381958, 0.29486051, 0.97939016, 0.19566119, 0.28073449],\n",
              "       [0.78017429, 0.70351508, 0.82457761, 0.99924197, 0.24871501],\n",
              "       [0.30045633, 0.58099073, 0.11776865, 0.65657691, 0.28140288],\n",
              "       [0.56334744, 0.64869687, 0.40156727, 0.91319291, 0.29483169],\n",
              "       [0.4872287 , 0.43158125, 0.84876595, 0.64934762, 0.26315802]])"
            ]
          },
          "metadata": {
            "tags": []
          },
          "execution_count": 5
        }
      ]
    }
  ]
}